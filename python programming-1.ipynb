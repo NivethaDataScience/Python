{
 "cells": [
  {
   "cell_type": "markdown",
   "id": "13b08136",
   "metadata": {},
   "source": [
    "# BASICS "
   ]
  },
  {
   "cell_type": "markdown",
   "id": "036c2532",
   "metadata": {},
   "source": [
    "Printing hello world"
   ]
  },
  {
   "cell_type": "code",
   "execution_count": null,
   "id": "0a0bd0cc",
   "metadata": {},
   "outputs": [],
   "source": [
    "print(\"Hello World\")"
   ]
  },
  {
   "cell_type": "markdown",
   "id": "cf4f6e43",
   "metadata": {},
   "source": [
    "Some mathematical operations"
   ]
  },
  {
   "cell_type": "code",
   "execution_count": null,
   "id": "017dc82f",
   "metadata": {},
   "outputs": [],
   "source": [
    "print(200 +400)\n",
    "print(400-200)\n",
    "print(30*40)\n",
    "print(500//100)\n",
    "print(500/100)\n",
    "print(16.0*3)#float\n",
    "print(16*3)"
   ]
  },
  {
   "cell_type": "markdown",
   "id": "397680f6",
   "metadata": {},
   "source": [
    "Exponant of a particular number"
   ]
  },
  {
   "cell_type": "code",
   "execution_count": null,
   "id": "59d454d0",
   "metadata": {},
   "outputs": [],
   "source": [
    "print(2**2)#2 raise to the power 2\n",
    "print(2**3)#2 raise to the power 3    \n",
    "#square of the number\n",
    "print(\"The square root of a 7 is:\",49**(1/2))"
   ]
  },
  {
   "cell_type": "code",
   "execution_count": null,
   "id": "aaa29886",
   "metadata": {
    "scrolled": false
   },
   "outputs": [],
   "source": [
    "print(98/7)\n",
    "#in order to avoid float use //\n",
    "print(98//7)\n",
    "#remainder\n",
    "print(24%2)#find the odd or even"
   ]
  },
  {
   "cell_type": "markdown",
   "id": "ad609354",
   "metadata": {},
   "source": [
    "The exponent( ** ) and mod ( % ) operator can also used in Float Number"
   ]
  },
  {
   "cell_type": "code",
   "execution_count": null,
   "id": "6f390f2b",
   "metadata": {
    "scrolled": true
   },
   "outputs": [],
   "source": [
    "#exponemt\n",
    "print(565.43**3)\n",
    "#mod\n",
    "print(65.65%2)"
   ]
  },
  {
   "cell_type": "code",
   "execution_count": null,
   "id": "4b3c1072",
   "metadata": {
    "scrolled": true
   },
   "outputs": [],
   "source": [
    "print(7%(5//2))#the inner operation can be execute first and the ans is 2\n",
    "#then 7%2 ->which gives the remainder (i.e) 1"
   ]
  },
  {
   "cell_type": "markdown",
   "id": "de414938",
   "metadata": {},
   "source": [
    "strings in Python"
   ]
  },
  {
   "cell_type": "code",
   "execution_count": null,
   "id": "8529c659",
   "metadata": {
    "scrolled": true
   },
   "outputs": [],
   "source": [
    "print('He's the good guy')\n",
    "      #The error can be raised because it considered 'he' only have to print and at the end of the statement we had quote which is not properly closed"
   ]
  },
  {
   "cell_type": "code",
   "execution_count": null,
   "id": "6c3d1bc2",
   "metadata": {},
   "outputs": [],
   "source": [
    "#the correct way of using this is..\n",
    "print('he\\'s a good boy')\n",
    "#now it can printed.."
   ]
  },
  {
   "cell_type": "code",
   "execution_count": null,
   "id": "ac1b3447",
   "metadata": {},
   "outputs": [],
   "source": [
    "#another way\n",
    "print(\"he's a good boy\")\n",
    "print('he is a \"good\" boy')"
   ]
  },
  {
   "cell_type": "raw",
   "id": "3f810317",
   "metadata": {},
   "source": [
    "Getting input in python..\n",
    "input()->This func can be used to get the input from the user"
   ]
  },
  {
   "cell_type": "code",
   "execution_count": null,
   "id": "a424b2e5",
   "metadata": {
    "scrolled": false
   },
   "outputs": [],
   "source": [
    "input(\"please Enter the value:\")#this can be stored in a variable"
   ]
  },
  {
   "cell_type": "code",
   "execution_count": null,
   "id": "c1957d9e",
   "metadata": {},
   "outputs": [],
   "source": [
    "#\\n -> New line.,Escape sequence\n",
    "print(\"Helo nivi you are so awesome\")#before newline\n",
    "print(\"Helo nivi\\nyou are so awesome \")#after newline"
   ]
  },
  {
   "cell_type": "markdown",
   "id": "7f4fed5a",
   "metadata": {},
   "source": [
    "string operations in python\n",
    "->The Number(int , float) which can be placed within single or double quotes      it can be considered as string\n",
    "->string Concatenation:joins the string\n",
    "->repitation (multiply a string with an integer)\n",
    "Note:multiple string with string is not possible"
   ]
  },
  {
   "cell_type": "code",
   "execution_count": null,
   "id": "3bbfecfe",
   "metadata": {
    "scrolled": true
   },
   "outputs": [],
   "source": [
    "print(\"hello\"+\" world\")\n",
    "print(\"55\" + \"55\")#not an integer instead it's a stringgggg\n",
    "print(\"hell0\"+\" 5\")\n",
    "print(\"Nivi\"*2)#repeat the string "
   ]
  },
  {
   "cell_type": "markdown",
   "id": "39b3bca3",
   "metadata": {},
   "source": [
    "Variables->used to store value\n",
    "Rules-> 1) starts with letters or underscore\n",
    "        2) Doesn't start with Numbers\n",
    "        3) contains Alpha anumeric characters\n",
    "        4) Case sensitive\n",
    "        5) cannot be used as keywords\n",
    "        "
   ]
  },
  {
   "cell_type": "code",
   "execution_count": null,
   "id": "0eedc301",
   "metadata": {},
   "outputs": [],
   "source": [
    "#addition of two numbers\n",
    "a=10\n",
    "b=20\n",
    "c=a+b\n",
    "print(c)"
   ]
  },
  {
   "cell_type": "code",
   "execution_count": null,
   "id": "3886984c",
   "metadata": {},
   "outputs": [],
   "source": [
    "#storing string in variable\n",
    "a='Nivetha'\n",
    "print(a)\n",
    "del a #here i delete the variable \n",
    "print(a)"
   ]
  },
  {
   "cell_type": "markdown",
   "id": "2d39930e",
   "metadata": {},
   "source": [
    "in place operator->also used in string"
   ]
  },
  {
   "cell_type": "code",
   "execution_count": null,
   "id": "b024b761",
   "metadata": {
    "scrolled": true
   },
   "outputs": [],
   "source": [
    "age=39\n",
    "age=age+1\n",
    "print(\"The age is :\",age)#40\n",
    "age+=1\n",
    "print(\"The age after in place operator:\",age)#41\n",
    "age-=2\n",
    "print(\"The age after subtract 2 is\",age)#39\n",
    "age*=3\n",
    "print(\"the age after multiply by 3:\",age)#39*3=117\n",
    "b=\"hello\"\n",
    "b+=\" world\"\n",
    "print(b)"
   ]
  },
  {
   "cell_type": "code",
   "execution_count": null,
   "id": "0748dcc3",
   "metadata": {
    "scrolled": true
   },
   "outputs": [],
   "source": [
    "#simple interst calculator\n",
    "principle_amount=int(input(\"enter value for principle:\"))\n",
    "no_of_years=int(input(\"enter the no of years:\"))\n",
    "rate_of_interest=int(input(\"enter the value for rate of interest:\"))\n",
    "simple_interest=(principle_amount*no_of_years*rate_of_interest)/100\n",
    "print(\"THE SIMPLE INTERST IS:\",simple_interest)\n",
    "\n"
   ]
  },
  {
   "cell_type": "markdown",
   "id": "37321bf4",
   "metadata": {},
   "source": [
    "Conditional Statements\n",
    "-> need to specify the colon correctly for the exact promt "
   ]
  },
  {
   "cell_type": "code",
   "execution_count": null,
   "id": "0e6e0084",
   "metadata": {},
   "outputs": [],
   "source": [
    "age=int(input(\"Enter your age:\"))\n",
    "if age>=18:\n",
    "    print(\"you are an adult\")\n",
    "else:\n",
    "    print(\"you are not an adult\")\n",
    "    "
   ]
  },
  {
   "cell_type": "code",
   "execution_count": null,
   "id": "8f52ddd1",
   "metadata": {},
   "outputs": [],
   "source": [
    "#marks from the student\n",
    "marks=int(input(\"Enter the marks:\"))\n",
    "if marks >= 90:\n",
    "    print(\"GRADE A\")\n",
    "elif marks >= 70:\n",
    "    print(\"GRADE B\")\n",
    "elif marks >=60:\n",
    "    print(\"GRADE C\")\n",
    "elif marks <60:  \n",
    "    print(\"GRADE D\")"
   ]
  },
  {
   "cell_type": "code",
   "execution_count": null,
   "id": "dc1209aa",
   "metadata": {},
   "outputs": [],
   "source": [
    "#program to get the marks from the student amdd fine the average then the grade had to given....\n",
    "m1=int(input(\"Enter the m1:\"))\n",
    "m2=int(input(\"Enter the m2:\"))\n",
    "m3=int(input(\"Enter the m3:\"))\n",
    "Total=m1+m2+m3\n",
    "print(\"Your total is\",Total)\n",
    "avg=Total/3\n",
    "print(\"Your average is\",avg)\n",
    "if avg>=90 and avg <100:\n",
    "    print(\"GRADE A\")\n",
    "elif avg>=80 and avg <90:\n",
    "    print(\"GRADE B\")\n",
    "elif avg>=70 and avg <80:\n",
    "    peint(\"GRADE C\")\n",
    "elif avg>=60 and avg <70:\n",
    "    print(\"GRADE D\")\n",
    "else:\n",
    "    print(\"You have to work hard\")"
   ]
  },
  {
   "cell_type": "markdown",
   "id": "c4826fe0",
   "metadata": {},
   "source": [
    "# LIST OPERATIONS"
   ]
  },
  {
   "cell_type": "markdown",
   "id": "4f6a088e",
   "metadata": {},
   "source": [
    "list()->used to create the list\n",
    "->list is a data structure\n",
    "->used to store the multiple values\n",
    "->enclosed with square brackets and seperated by commos\n",
    "->most used ds for storing the value"
   ]
  },
  {
   "cell_type": "code",
   "execution_count": null,
   "id": "ca5f84e5",
   "metadata": {},
   "outputs": [],
   "source": [
    "i=[]#empty_list\n",
    "for i in range(5):#inserting values using loop\n",
    "    print(i)#i can be printed"
   ]
  },
  {
   "cell_type": "code",
   "execution_count": null,
   "id": "044dadb9",
   "metadata": {},
   "outputs": [],
   "source": [
    "name=[\"Nivetha\",\"Subhash\",\"keerthi\"]\n",
    "print(name)"
   ]
  },
  {
   "cell_type": "code",
   "execution_count": null,
   "id": "3ce2cf2c",
   "metadata": {},
   "outputs": [],
   "source": [
    "#access using index position\n",
    "print(name[0])\n",
    "print(name[1])\n",
    "print(name[2])\n",
    "numbers=[1,2,3,4,5]\n",
    "print(numbers[4])"
   ]
  },
  {
   "cell_type": "code",
   "execution_count": null,
   "id": "86b49ce1",
   "metadata": {},
   "outputs": [],
   "source": [
    "numbers=[1,1,2,2,2,4]\n",
    "numbers[2]=5\n",
    "print(numbers)\n",
    "new_numbers=[1,2,3]\n",
    "print(numbers+new_numbers)#concatenation\n",
    "new_numbers.insert(2,5)#insert value at exact index position\n",
    "print(new_numbers)\n",
    "print(numbers*3)#repeatation"
   ]
  },
  {
   "cell_type": "code",
   "execution_count": null,
   "id": "277fc483",
   "metadata": {},
   "outputs": [],
   "source": [
    "fruits=[\"apples\",\"orange\",\"Grapes\"]\n",
    "if \"apples\" in fruits:\n",
    "    print(\"yes\")\n",
    "print(\"apples\" in fruits) #returns boolean->True \n",
    "print(\"babana\" in fruits) #returns boolean->false"
   ]
  },
  {
   "cell_type": "code",
   "execution_count": null,
   "id": "f1e6dffb",
   "metadata": {
    "scrolled": false
   },
   "outputs": [],
   "source": [
    "#append()->add item at existing list\n",
    "fruits=[\"apples\",\"orange\",\"Grapes\"]\n",
    "fruits.append(\"banana\")\n",
    "print(fruits)\n",
    "#len()->Number of items in list\n",
    "print(len(fruits))\n",
    "#insert()-> used to insert the particular item at particular position\n",
    "fruits.insert(0,\"strawberry\")\n",
    "print(fruits)\n",
    "#index Function\n",
    "print(fruits.index(\"orange\"))\n",
    " \n"
   ]
  },
  {
   "cell_type": "code",
   "execution_count": null,
   "id": "cca8a67c",
   "metadata": {
    "scrolled": true
   },
   "outputs": [],
   "source": [
    "#range function\n",
    "number=list(range(10))#creating list and prints till 9\n",
    "print(number)\n",
    "number=list(range(3,6))#from this to that\n",
    "print(number)\n",
    "number=list(range(2,20,2))#step value\n",
    "print(number)"
   ]
  },
  {
   "cell_type": "code",
   "execution_count": null,
   "id": "e1f20789",
   "metadata": {},
   "outputs": [],
   "source": [
    "#code reuse->functions\n",
    "def display():\n",
    "    print(\"Nivetha\")\n",
    "    print(\"Never lose hope\")\n",
    "    print(\"You have to stay strong\")\n",
    "display()#calling function"
   ]
  },
  {
   "cell_type": "code",
   "execution_count": null,
   "id": "f7f42da6",
   "metadata": {},
   "outputs": [],
   "source": [
    "display()#call anytime at anywhere->by calling fuunc"
   ]
  },
  {
   "cell_type": "code",
   "execution_count": 1,
   "id": "130e344c",
   "metadata": {},
   "outputs": [
    {
     "name": "stdout",
     "output_type": "stream",
     "text": [
      "0\n",
      "2\n",
      "4\n",
      "6\n",
      "8\n",
      "10\n",
      "Effort never fails \n",
      "Effort never fails \n",
      "Effort never fails \n"
     ]
    }
   ],
   "source": [
    "#for loop->set of code at number of times\n",
    "for x in range(0,11,2):#range can be given\n",
    "    print(x)\n",
    "for i in range(3):\n",
    "    print(\"Effort never fails \")"
   ]
  },
  {
   "cell_type": "code",
   "execution_count": null,
   "id": "68333548",
   "metadata": {},
   "outputs": [],
   "source": [
    "fruits=[\"apple\",\"banana\",\"grapes\",\"orange\"]\n",
    "for i in fruits:\n",
    "    print(i)"
   ]
  },
  {
   "cell_type": "code",
   "execution_count": null,
   "id": "3e2d6233",
   "metadata": {},
   "outputs": [],
   "source": [
    "#boolean logic\n",
    "user_name=input(\"Enter the user name:\")\n",
    "pswd=input(\"enter the password\")\n",
    "if user_name==\"Nivetha\" and pswd==\"Nivipapa@98\":\n",
    "    print(\"Valid user\")\n",
    "else:\n",
    "    print(\"Invalid user\")\n"
   ]
  },
  {
   "cell_type": "code",
   "execution_count": null,
   "id": "0d639fab",
   "metadata": {},
   "outputs": [],
   "source": [
    "user_name=input(\"Enter the user name:\")\n",
    "pswd=input(\"enter the password\")\n",
    "if user_name==\"Nivetha\" or pswd==\"Nivipapa@98\":#either one can be true\n",
    "    print(\"Valid user\")\n",
    "else:\n",
    "    print(\"Invalid user\")\n"
   ]
  },
  {
   "cell_type": "code",
   "execution_count": null,
   "id": "74408655",
   "metadata": {},
   "outputs": [],
   "source": [
    "#while loop-> Repeat multiple Number of times\n",
    "counter=0 #initialize the variable\n",
    "while counter<=10: #0<=10\n",
    "    print(counter)\n",
    "    counter+=1"
   ]
  },
  {
   "cell_type": "code",
   "execution_count": null,
   "id": "2f3ae977",
   "metadata": {},
   "outputs": [],
   "source": [
    "#passing arguments to the function\n",
    "#perform many operations like mul,div,sub\n",
    "def add(a,b):\n",
    "    print(a+b)   \n",
    "a=int(input(\"Enter the value of a:\"))\n",
    "b=int(input(\"Enter the value of b:\"))\n",
    "add(a,b)\n",
    "add(5,9)#or pass the arguments directly"
   ]
  },
  {
   "cell_type": "code",
   "execution_count": null,
   "id": "4ab3379a",
   "metadata": {
    "scrolled": true
   },
   "outputs": [],
   "source": [
    "#Function return some value\n",
    "def add(a,b):\n",
    "    c=a+b\n",
    "    return c\n",
    "result=add(100,400)\n",
    "print(result)"
   ]
  },
  {
   "cell_type": "code",
   "execution_count": null,
   "id": "2c3fd82e",
   "metadata": {},
   "outputs": [],
   "source": [
    "def add(a,b):\n",
    "    return a+b\n",
    "def square(c):\n",
    "    return c*c\n",
    "result=square(add(2,8))#passing function inside the Function\n",
    "print(\"Result:\",result)"
   ]
  },
  {
   "cell_type": "code",
   "execution_count": null,
   "id": "01495689",
   "metadata": {},
   "outputs": [],
   "source": [
    "#Random module\n",
    "import random#imported\n",
    "for x in range(5):\n",
    "    result=random.randint(1,6)#randomly numbers can be printed from 1 to 6  \n",
    "    print(result)\n"
   ]
  },
  {
   "cell_type": "markdown",
   "id": "10fa7b57",
   "metadata": {},
   "source": [
    "Errors and excception"
   ]
  },
  {
   "cell_type": "code",
   "execution_count": null,
   "id": "e679b01d",
   "metadata": {},
   "outputs": [],
   "source": [
    "#syntax error\n",
    "def add(a,b)\n",
    "    print(a+b)\n",
    "add(2,3)    "
   ]
  },
  {
   "cell_type": "markdown",
   "id": "8ab4aada",
   "metadata": {},
   "source": [
    "#logical error-> difficult to determined\n",
    "              -> The errors in programmer Logics "
   ]
  },
  {
   "cell_type": "code",
   "execution_count": 2,
   "id": "e29c6624",
   "metadata": {},
   "outputs": [
    {
     "ename": "ZeroDivisionError",
     "evalue": "integer division or modulo by zero",
     "output_type": "error",
     "traceback": [
      "\u001b[1;31m---------------------------------------------------------------------------\u001b[0m",
      "\u001b[1;31mZeroDivisionError\u001b[0m                         Traceback (most recent call last)",
      "Cell \u001b[1;32mIn[2], line 3\u001b[0m\n\u001b[0;32m      1\u001b[0m \u001b[38;5;28;01mdef\u001b[39;00m \u001b[38;5;21mdiv\u001b[39m(a,b):\n\u001b[0;32m      2\u001b[0m     \u001b[38;5;28mprint\u001b[39m(a\u001b[38;5;241m/\u001b[39m\u001b[38;5;241m/\u001b[39mb)\n\u001b[1;32m----> 3\u001b[0m \u001b[43mdiv\u001b[49m\u001b[43m(\u001b[49m\u001b[38;5;241;43m4\u001b[39;49m\u001b[43m,\u001b[49m\u001b[38;5;241;43m0\u001b[39;49m\u001b[43m)\u001b[49m\n",
      "Cell \u001b[1;32mIn[2], line 2\u001b[0m, in \u001b[0;36mdiv\u001b[1;34m(a, b)\u001b[0m\n\u001b[0;32m      1\u001b[0m \u001b[38;5;28;01mdef\u001b[39;00m \u001b[38;5;21mdiv\u001b[39m(a,b):\n\u001b[1;32m----> 2\u001b[0m     \u001b[38;5;28mprint\u001b[39m(\u001b[43ma\u001b[49m\u001b[38;5;241;43m/\u001b[39;49m\u001b[38;5;241;43m/\u001b[39;49m\u001b[43mb\u001b[49m)\n",
      "\u001b[1;31mZeroDivisionError\u001b[0m: integer division or modulo by zero"
     ]
    }
   ],
   "source": [
    "def div(a,b):\n",
    "    print(a//b)\n",
    "div(4,0) #Zero division error  -> Exception occurs "
   ]
  },
  {
   "cell_type": "code",
   "execution_count": null,
   "id": "baa746ae",
   "metadata": {},
   "outputs": [],
   "source": []
  }
 ],
 "metadata": {
  "kernelspec": {
   "display_name": "Python 3 (ipykernel)",
   "language": "python",
   "name": "python3"
  },
  "language_info": {
   "codemirror_mode": {
    "name": "ipython",
    "version": 3
   },
   "file_extension": ".py",
   "mimetype": "text/x-python",
   "name": "python",
   "nbconvert_exporter": "python",
   "pygments_lexer": "ipython3",
   "version": "3.10.9"
  }
 },
 "nbformat": 4,
 "nbformat_minor": 5
}
