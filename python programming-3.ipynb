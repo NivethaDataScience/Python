{
 "cells": [
  {
   "cell_type": "markdown",
   "id": "e4994b17",
   "metadata": {},
   "source": [
    "Object oriented programmming\n",
    "-> class-classification of the particular thing\n",
    "->objects-class can be called by creating the object\n",
    "->methods-Function which can be used inside function called methods and holds     the code for the particular class"
   ]
  },
  {
   "cell_type": "code",
   "execution_count": 1,
   "id": "46fe2c5e",
   "metadata": {},
   "outputs": [],
   "source": [
    "class students:\n",
    "    def __init__(self,name,contact):#inizialize the attributes\n",
    "        self.name=name\n",
    "        self.contact=contact\n",
    "    def getdata(self):\n",
    "        print(\"Accepting data\")\n",
    "        self.name=input(\"Enter the name:\")\n",
    "        self.contact=input(\"Enter the contact:\")              \n",
    "    def putdata(self):\n",
    "        print(\"The name is:\",self.name,\"The contact is:\",self.contact)"
   ]
  },
  {
   "cell_type": "code",
   "execution_count": 2,
   "id": "afadbaa6",
   "metadata": {},
   "outputs": [
    {
     "name": "stdout",
     "output_type": "stream",
     "text": [
      "Accepting data\n",
      "Enter the name:Nivetha\n",
      "Enter the contact:7550377171\n",
      "The name is: Nivetha The contact is: 7550377171\n"
     ]
    }
   ],
   "source": [
    "#object creation\n",
    "john=students(\"blank\",0)#default arguments\n",
    "john.getdata()\n",
    "john.putdata()"
   ]
  },
  {
   "cell_type": "markdown",
   "id": "7e4f8112",
   "metadata": {},
   "source": [
    "INHERITANCE-> Properties and the methods have be inherit from the parent class"
   ]
  },
  {
   "cell_type": "code",
   "execution_count": 12,
   "id": "7501b6bc",
   "metadata": {},
   "outputs": [],
   "source": [
    "class sciencestudents(students):\n",
    "    def __init__(self,age):\n",
    "        self.age=age\n",
    "    def science(self):\n",
    "        print(\"I am the science student\")"
   ]
  },
  {
   "cell_type": "code",
   "execution_count": 13,
   "id": "3eef7d90",
   "metadata": {},
   "outputs": [
    {
     "name": "stdout",
     "output_type": "stream",
     "text": [
      "I am the science student\n",
      "Accepting data\n",
      "Enter the name:nivetha \n",
      "Enter the contact:8754394125\n",
      "The name is: nivetha  The contact is: 8754394125\n"
     ]
    }
   ],
   "source": [
    "ron=sciencestudents(18)\n",
    "ron.science()\n",
    "ron.getdata()\n",
    "ron.putdata()"
   ]
  },
  {
   "cell_type": "markdown",
   "id": "553bb106",
   "metadata": {},
   "source": [
    "RECURSION->The function which call itself \n",
    "INFINITE RECURSION->doesn't reaches the base case and never grt terminated"
   ]
  },
  {
   "cell_type": "code",
   "execution_count": 11,
   "id": "1ef58f01",
   "metadata": {},
   "outputs": [
    {
     "name": "stdout",
     "output_type": "stream",
     "text": [
      "120\n"
     ]
    }
   ],
   "source": [
    "def factorial(x):\n",
    "    if(x==1):\n",
    "        return 1\n",
    "    else:\n",
    "        return x*(factorial(x-1))\n",
    "result=factorial(5)\n",
    "print(result)\n",
    "    "
   ]
  },
  {
   "cell_type": "markdown",
   "id": "e1b95a84",
   "metadata": {},
   "source": [
    "SETS IN PYTHON"
   ]
  },
  {
   "cell_type": "code",
   "execution_count": 8,
   "id": "628eed08",
   "metadata": {},
   "outputs": [
    {
     "name": "stdout",
     "output_type": "stream",
     "text": [
      "{1, 2, 3, 4, 5}\n"
     ]
    }
   ],
   "source": [
    "numbers={1,2,3,4,5}\n",
    "print(numbers)"
   ]
  },
  {
   "cell_type": "code",
   "execution_count": 9,
   "id": "29bae1c9",
   "metadata": {},
   "outputs": [
    {
     "name": "stdout",
     "output_type": "stream",
     "text": [
      "True\n",
      "{1, 2, 3, 5, 9}\n"
     ]
    }
   ],
   "source": [
    "print(5 in numbers)\n",
    "numbers.add(9)\n",
    "numbers.remove(4)\n",
    "print(numbers)"
   ]
  },
  {
   "cell_type": "code",
   "execution_count": 10,
   "id": "1451d0f2",
   "metadata": {},
   "outputs": [
    {
     "name": "stdout",
     "output_type": "stream",
     "text": [
      "{1, 2, 3, 4, 5, 6, 7, 8}\n",
      "{4, 5}\n",
      "{1, 2, 3}\n"
     ]
    }
   ],
   "source": [
    "a={1,2,3,4,5}\n",
    "b={4,5,6,7,8}\n",
    "print(a | b) #union\n",
    "print(a & b)#intersection\n",
    "print(a - b)#difference"
   ]
  },
  {
   "cell_type": "markdown",
   "id": "a5574750",
   "metadata": {},
   "source": [
    "ITERTOOLS->standard module which contains some functions\n",
    "ACCUMULATE->The running total of values in an iterable\n",
    "TAKEWHILE->It can be done using the lambda function"
   ]
  },
  {
   "cell_type": "code",
   "execution_count": 6,
   "id": "f2a5fd75",
   "metadata": {},
   "outputs": [
    {
     "name": "stdout",
     "output_type": "stream",
     "text": [
      "3\n",
      "4\n",
      "5\n",
      "6\n",
      "7\n",
      "8\n",
      "9\n",
      "10\n",
      "11\n",
      "12\n",
      "13\n",
      "14\n",
      "15\n",
      "16\n",
      "17\n",
      "18\n",
      "19\n",
      "20\n"
     ]
    }
   ],
   "source": [
    "from itertools import count\n",
    "for i in count(3):\n",
    "    print(i)\n",
    "    if i>=20:\n",
    "        break"
   ]
  },
  {
   "cell_type": "code",
   "execution_count": 7,
   "id": "eeed6826",
   "metadata": {},
   "outputs": [
    {
     "name": "stdout",
     "output_type": "stream",
     "text": [
      "[0, 1, 3, 6, 10, 15, 21, 28]\n",
      "[0, 1, 3, 6]\n"
     ]
    }
   ],
   "source": [
    "from itertools import accumulate,takewhile\n",
    "numbers=list(accumulate(range(8)))\n",
    "print(numbers)\n",
    "print(list(takewhile(lambda x: x<= 6,numbers)))"
   ]
  },
  {
   "cell_type": "markdown",
   "id": "0804098f",
   "metadata": {},
   "source": [
    "OPERATOR OVERLOADING "
   ]
  },
  {
   "cell_type": "code",
   "execution_count": 5,
   "id": "914049d8",
   "metadata": {},
   "outputs": [
    {
     "name": "stdout",
     "output_type": "stream",
     "text": [
      "(3,9)\n"
     ]
    }
   ],
   "source": [
    "class point:\n",
    "    def __init__(self,x,y):\n",
    "        self.x=x\n",
    "        self.y=y\n",
    "    def __add__(self,other):\n",
    "        x=self.x+other.x\n",
    "        y=self.x+other.y\n",
    "        return point(x,y)\n",
    "    def __str__(self):\n",
    "        return \"({0},{1})\".format(self.x,self.y)\n",
    "point1=point(1,4)\n",
    "point2=point(2,8)\n",
    "print(point1+point2)#operator overloading"
   ]
  },
  {
   "cell_type": "markdown",
   "id": "c8d10b18",
   "metadata": {},
   "source": [
    "DATA HIDING ->providing only the essentials and hiding the details is known as data abstraction( ___ )#double underscore"
   ]
  },
  {
   "cell_type": "code",
   "execution_count": 19,
   "id": "51398f5b",
   "metadata": {
    "scrolled": true
   },
   "outputs": [
    {
     "name": "stdout",
     "output_type": "stream",
     "text": [
      "5\n"
     ]
    },
    {
     "ename": "AttributeError",
     "evalue": "'myclass' object has no attribute '__hiddenvariable'",
     "output_type": "error",
     "traceback": [
      "\u001b[1;31m---------------------------------------------------------------------------\u001b[0m",
      "\u001b[1;31mAttributeError\u001b[0m                            Traceback (most recent call last)",
      "Cell \u001b[1;32mIn[19], line 9\u001b[0m\n\u001b[0;32m      7\u001b[0m obj\u001b[38;5;241m=\u001b[39mmyclass()\n\u001b[0;32m      8\u001b[0m obj\u001b[38;5;241m.\u001b[39madd(\u001b[38;5;241m5\u001b[39m)\n\u001b[1;32m----> 9\u001b[0m \u001b[38;5;28mprint\u001b[39m(\u001b[43mobj\u001b[49m\u001b[38;5;241;43m.\u001b[39;49m\u001b[43m__hiddenvariable\u001b[49m)\n",
      "\u001b[1;31mAttributeError\u001b[0m: 'myclass' object has no attribute '__hiddenvariable'"
     ]
    }
   ],
   "source": [
    "class myclass:\n",
    "    __hiddenvariable=0#cannot be used outside the class\n",
    "    def add(self,increment):\n",
    "        self.__hiddenvariable+=increment\n",
    "        print(self.__hiddenvariable)\n",
    "        \n",
    "obj=myclass()\n",
    "obj.add(5)\n",
    "print(obj.__hiddenvariable)#cannot display the value \n",
    "        \n",
    "     "
   ]
  },
  {
   "cell_type": "code",
   "execution_count": 20,
   "id": "8420a012",
   "metadata": {},
   "outputs": [
    {
     "name": "stdout",
     "output_type": "stream",
     "text": [
      "5\n",
      "5\n"
     ]
    }
   ],
   "source": [
    "class myclass:\n",
    "    hiddenvariable=0\n",
    "    def add(self,increment):\n",
    "        self.hiddenvariable+=increment\n",
    "        print(self.hiddenvariable)\n",
    "        \n",
    "obj=myclass()\n",
    "obj.add(5)\n",
    "print(obj.hiddenvariable)#cannot display the value \n",
    "        "
   ]
  },
  {
   "cell_type": "markdown",
   "id": "fe41fbe7",
   "metadata": {},
   "source": [
    "REGULAR EXPRESSION->Powerful tools for various of string manipulation"
   ]
  },
  {
   "cell_type": "markdown",
   "id": "4c4a1a75",
   "metadata": {},
   "source": [
    "->string matching\n",
    "->substitution in a string\n",
    "->we need to import the module re\n"
   ]
  },
  {
   "cell_type": "code",
   "execution_count": 22,
   "id": "95bf5335",
   "metadata": {},
   "outputs": [
    {
     "name": "stdout",
     "output_type": "stream",
     "text": [
      "match found\n"
     ]
    }
   ],
   "source": [
    "#match function->expects xact match\n",
    "import re\n",
    "pattern=r\"eggs\"#r->raw string and string should contains eggs\n",
    "if re.match(pattern,\"eggseggseggsbacon\"):#starts with eggs\n",
    "    print(\"match found\")\n",
    "else:\n",
    "    print(\"match does not found\")"
   ]
  },
  {
   "cell_type": "code",
   "execution_count": 23,
   "id": "7b312915",
   "metadata": {},
   "outputs": [
    {
     "name": "stdout",
     "output_type": "stream",
     "text": [
      "match does not found\n"
     ]
    }
   ],
   "source": [
    "import re\n",
    "pattern=r\"eggs\"#r->raw string and string should contains eggs\n",
    "if re.match(pattern,\"baconeggseggseggsbacon\"):\n",
    "    print(\"match found\")\n",
    "else:\n",
    "    print(\"match does not found\")"
   ]
  },
  {
   "cell_type": "code",
   "execution_count": 25,
   "id": "acbf795d",
   "metadata": {},
   "outputs": [
    {
     "name": "stdout",
     "output_type": "stream",
     "text": [
      "match found\n"
     ]
    }
   ],
   "source": [
    "#search functionimport re\n",
    "pattern=r\"eggs\"#r->raw string and string should contains eggs\n",
    "if re.search(pattern,\"baconeggseggseggsbacon\"):\n",
    "    print(\"match found\")\n",
    "else:\n",
    "    print(\"match does not found\")"
   ]
  },
  {
   "cell_type": "code",
   "execution_count": 26,
   "id": "cc253ef5",
   "metadata": {},
   "outputs": [
    {
     "name": "stdout",
     "output_type": "stream",
     "text": [
      "match found\n"
     ]
    }
   ],
   "source": [
    "#findall\n",
    "pattern=r\"eggs\"#r->raw string and string should contains eggs\n",
    "if re.findall(pattern,\"baconeggseggseggsbacon\"):\n",
    "    print(\"match found\")\n",
    "else:\n",
    "    print(\"match does not found\")"
   ]
  },
  {
   "cell_type": "code",
   "execution_count": 27,
   "id": "d7605670",
   "metadata": {},
   "outputs": [
    {
     "name": "stdout",
     "output_type": "stream",
     "text": [
      "['eggs', 'eggs', 'eggs']\n"
     ]
    }
   ],
   "source": [
    "print(re.findall(pattern,\"baconeggseggseggsbacon\"))#returns the string"
   ]
  },
  {
   "cell_type": "markdown",
   "id": "c670dcd6",
   "metadata": {},
   "source": [
    "FIND AND REPLACE"
   ]
  },
  {
   "cell_type": "code",
   "execution_count": 28,
   "id": "347d3093",
   "metadata": {},
   "outputs": [
    {
     "name": "stdout",
     "output_type": "stream",
     "text": [
      "My name is rob,Hi I'm rob\n"
     ]
    }
   ],
   "source": [
    "import re\n",
    "string=\"My name is john,Hi I'm john\"\n",
    "pattern=r\"john\"\n",
    "newstring=re.sub(pattern,\"rob\",string)\n",
    "print(newstring)"
   ]
  },
  {
   "cell_type": "markdown",
   "id": "feaea7d8",
   "metadata": {},
   "source": [
    "METACHARACTER\n",
    "->dot metacharacter\n",
    "->caret metacharacter \n",
    "->Dollar metacharacter\n",
    "->star metacharacter"
   ]
  },
  {
   "cell_type": "code",
   "execution_count": 29,
   "id": "574ca4d3",
   "metadata": {},
   "outputs": [
    {
     "name": "stdout",
     "output_type": "stream",
     "text": [
      "Match found\n"
     ]
    }
   ],
   "source": [
    "import re\n",
    "pattern=r\"gr.y\"\n",
    "if re.match(pattern,\"gray\"):# a to z instead of(a) match will be found\n",
    "    print('Match found')"
   ]
  },
  {
   "cell_type": "code",
   "execution_count": 34,
   "id": "92c55ace",
   "metadata": {},
   "outputs": [
    {
     "name": "stdout",
     "output_type": "stream",
     "text": [
      "Match found\n"
     ]
    }
   ],
   "source": [
    "import re\n",
    "pattern=\"^gr.y$\"#starting and end with g(^) and y($)\n",
    "if re.match(pattern,\"gray\"):\n",
    "    print(\"Match found\")"
   ]
  },
  {
   "cell_type": "code",
   "execution_count": 35,
   "id": "8f7a7632",
   "metadata": {},
   "outputs": [
    {
     "name": "stdout",
     "output_type": "stream",
     "text": [
      "Not found\n"
     ]
    }
   ],
   "source": [
    "import re\n",
    "pattern=\"^gr.y$\"#starting and end with g(^) and y($)\n",
    "if re.match(pattern,\"grap\"):\n",
    "    print(\"Match found\")\n",
    "else:\n",
    "    print(\"Not found\")"
   ]
  },
  {
   "cell_type": "code",
   "execution_count": 53,
   "id": "604842c4",
   "metadata": {},
   "outputs": [
    {
     "name": "stdout",
     "output_type": "stream",
     "text": [
      "match found\n"
     ]
    }
   ],
   "source": [
    "import re\n",
    "pattern=r\"eggs(bacon)*\"# * can be used here \n",
    "if re.match(pattern,\"eggsbacon\"):\n",
    "    print(\"match found\")"
   ]
  },
  {
   "cell_type": "code",
   "execution_count": 55,
   "id": "91e4b728",
   "metadata": {},
   "outputs": [
    {
     "name": "stdout",
     "output_type": "stream",
     "text": [
      "match found\n"
     ]
    }
   ],
   "source": [
    "import re\n",
    "pattern=r\"eggs(bacon)*\"# * can be use here\n",
    "if re.match(pattern,\"eggs\"):\n",
    "    print(\"match found\")\n",
    "else:\n",
    "    print(\"Match not found\")\n",
    "          "
   ]
  },
  {
   "cell_type": "markdown",
   "id": "1eefc909",
   "metadata": {},
   "source": [
    "CHARACTER CLASS->Particular string format follows some other format"
   ]
  },
  {
   "cell_type": "code",
   "execution_count": 47,
   "id": "c9296312",
   "metadata": {},
   "outputs": [
    {
     "name": "stdout",
     "output_type": "stream",
     "text": [
      "Match found\n"
     ]
    }
   ],
   "source": [
    "import re\n",
    "#charcharnumber\n",
    "pattern=r\"[A-Z][a-z][0-9]\"\n",
    "if re.search(pattern,\"Ar0\"):\n",
    "    print(\"Match found\")"
   ]
  },
  {
   "cell_type": "markdown",
   "id": "d30fb82e",
   "metadata": {},
   "source": [
    "GROUP"
   ]
  },
  {
   "cell_type": "code",
   "execution_count": 59,
   "id": "6ba01b7e",
   "metadata": {},
   "outputs": [
    {
     "name": "stdout",
     "output_type": "stream",
     "text": [
      "Match found\n"
     ]
    }
   ],
   "source": [
    "import re\n",
    "pattern=r\"bread(eggs)*bread\"\n",
    "if re.match(pattern,\"breadeggseggseggsbread\"):\n",
    "    print(\"Match found\")"
   ]
  },
  {
   "cell_type": "code",
   "execution_count": null,
   "id": "9c426af0",
   "metadata": {},
   "outputs": [],
   "source": [
    "import re\n",
    "pattern=r\"bread(eggs)*bread\"#many number of eggs can be placed here(*)\n",
    "if re.match(pattern,\"breadeggseggseggsbread\"):\n",
    "    print(\"Match found\")"
   ]
  }
 ],
 "metadata": {
  "kernelspec": {
   "display_name": "Python 3 (ipykernel)",
   "language": "python",
   "name": "python3"
  },
  "language_info": {
   "codemirror_mode": {
    "name": "ipython",
    "version": 3
   },
   "file_extension": ".py",
   "mimetype": "text/x-python",
   "name": "python",
   "nbconvert_exporter": "python",
   "pygments_lexer": "ipython3",
   "version": "3.10.9"
  }
 },
 "nbformat": 4,
 "nbformat_minor": 5
}
