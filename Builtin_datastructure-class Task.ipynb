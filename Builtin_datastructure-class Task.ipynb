{
 "cells": [
  {
   "cell_type": "markdown",
   "id": "7abbf310",
   "metadata": {},
   "source": [
    "list is an inbuilt data structure.\n",
    "it is mutable(i.e)changeble\n",
    "different datatypes can be stored.\n",
    "enclosed within square bracket and seperated by comma."
   ]
  },
  {
   "cell_type": "code",
   "execution_count": null,
   "id": "5d6f09de",
   "metadata": {},
   "outputs": [],
   "source": []
  },
  {
   "cell_type": "code",
   "execution_count": 1,
   "id": "0793ecba",
   "metadata": {},
   "outputs": [
    {
     "data": {
      "text/plain": [
       "12"
      ]
     },
     "execution_count": 1,
     "metadata": {},
     "output_type": "execute_result"
    }
   ],
   "source": [
    "student_marks=[100,'nivi',[12,13,14],'trichy']\n",
    "student_marks[2][0]"
   ]
  },
  {
   "cell_type": "code",
   "execution_count": 2,
   "id": "8cd54373",
   "metadata": {},
   "outputs": [
    {
     "name": "stdout",
     "output_type": "stream",
     "text": [
      "10\n",
      "36\n",
      "43\n"
     ]
    }
   ],
   "source": [
    "chars=[10,36,43]\n",
    "for char in chars:\n",
    "    print(char)"
   ]
  },
  {
   "cell_type": "markdown",
   "id": "e22df30d",
   "metadata": {},
   "source": [
    "# Methods in list\n",
    "insert-insert element at position\n",
    "append-add one element at the end of the list\n",
    "update-update the element\n",
    "extend-set of values can add  at the existing list\n",
    "pop-remove the element and show the removed element\n",
    "del-del the particular element\n",
    "sort-asscending order if des set (reverse=true)\n",
    "reverse-reverse the entire list\n",
    "rename-name can be changee"
   ]
  },
  {
   "cell_type": "code",
   "execution_count": 3,
   "id": "18e87b52",
   "metadata": {},
   "outputs": [
    {
     "name": "stdout",
     "output_type": "stream",
     "text": [
      "[1, 2, 3]\n",
      "[1, 2, 3]\n"
     ]
    }
   ],
   "source": [
    "#aliasing and cloning\n",
    "a=[1,2,3]\n",
    "b=a\n",
    "print(b)#directly assigned\n",
    "b=a[:]\n",
    "print(b)#using slice operator"
   ]
  },
  {
   "cell_type": "code",
   "execution_count": 4,
   "id": "8c30e88d",
   "metadata": {},
   "outputs": [
    {
     "ename": "SyntaxError",
     "evalue": "invalid syntax (55157589.py, line 4)",
     "output_type": "error",
     "traceback": [
      "\u001b[1;36m  Cell \u001b[1;32mIn[4], line 4\u001b[1;36m\u001b[0m\n\u001b[1;33m    print('acc'in sub and )\u001b[0m\n\u001b[1;37m                          ^\u001b[0m\n\u001b[1;31mSyntaxError\u001b[0m\u001b[1;31m:\u001b[0m invalid syntax\n"
     ]
    }
   ],
   "source": [
    "students_marks=['john',['acc,cs,phy,che']]\n",
    "count=0\n",
    "for name,sub in students_marks:\n",
    "    print('acc'in sub and )"
   ]
  },
  {
   "cell_type": "markdown",
   "id": "777eb8b1",
   "metadata": {},
   "source": [
    "split and join are anothe two methods\n",
    "split-substring as tokens\n",
    "join-joins the string\n",
    "delimiter-except value #stock words rem0val"
   ]
  },
  {
   "cell_type": "code",
   "execution_count": null,
   "id": "bb5b3670",
   "metadata": {
    "scrolled": true
   },
   "outputs": [],
   "source": [
    "text=\"rain rain\"\n",
    "a=print(text.split())\n",
    "print(text.split('ai'))"
   ]
  },
  {
   "cell_type": "code",
   "execution_count": null,
   "id": "09335778",
   "metadata": {},
   "outputs": [],
   "source": [
    "matrix=[[1,2,3],[4,5,6]]\n",
    "for lst in matrix:#it accepts the whole list and assigns lst to each it\n",
    "    for item in lst:#lst =1 2 3 4 5 6\n",
    "        print(item)"
   ]
  },
  {
   "cell_type": "markdown",
   "id": "b3f34c7c",
   "metadata": {},
   "source": [
    "list comprehension\n",
    "syntax:\n",
    "enumerate(sequnce,start=0)-no need to give the condition,it woks"
   ]
  },
  {
   "cell_type": "code",
   "execution_count": null,
   "id": "63e8827a",
   "metadata": {},
   "outputs": [],
   "source": [
    "for (i,v) in enumerate([\"banana\",\"apple\"]):\n",
    "    print(i,v)"
   ]
  },
  {
   "cell_type": "markdown",
   "id": "101a9a3f",
   "metadata": {},
   "source": [
    "comprehend\n",
    "syntax:\n",
    "    new_list=[expression for iterate]\n",
    "for dictionary\n",
    "syntax:\n",
    "    new_dict={expression for dict}"
   ]
  },
  {
   "cell_type": "code",
   "execution_count": null,
   "id": "d3acf193",
   "metadata": {
    "scrolled": true
   },
   "outputs": [],
   "source": [
    "#zip\n",
    "x=[1,2,3]\n",
    "y=[4,5,6]\n",
    "print(list(zip(x,y)))"
   ]
  },
  {
   "cell_type": "code",
   "execution_count": null,
   "id": "757e2910",
   "metadata": {
    "scrolled": true
   },
   "outputs": [],
   "source": [
    "result=[x+y for x,y in zip(x,y)]\n",
    "print(\"x+y=\",result)"
   ]
  },
  {
   "cell_type": "markdown",
   "id": "fc2ddaf6",
   "metadata": {},
   "source": [
    "lambda-anonymous unnamed function\n",
    "lambda arguments:exression"
   ]
  },
  {
   "cell_type": "code",
   "execution_count": null,
   "id": "2f5466bb",
   "metadata": {},
   "outputs": [],
   "source": [
    " numbers=[1,10,25,33,47,55,79,90,40]"
   ]
  },
  {
   "cell_type": "code",
   "execution_count": null,
   "id": "1c9b7e35",
   "metadata": {},
   "outputs": [],
   "source": [
    "def even(n):\n",
    "    if n%2==0:\n",
    "        return True\n",
    "    else:\n",
    "        return False\n",
    "print(list(filter(even,numbers)))            "
   ]
  },
  {
   "cell_type": "markdown",
   "id": "1aff91be",
   "metadata": {},
   "source": [
    "stack=last in first out\n",
    "same as list\n",
    "stack=[]\n",
    "queue=first in last out\n",
    "deque-descending order"
   ]
  },
  {
   "cell_type": "code",
   "execution_count": null,
   "id": "e9667d10",
   "metadata": {},
   "outputs": [],
   "source": [
    "elements=[]\n",
    "for i in range(6):\n",
    "    elements.append(i)\n",
    "for nivi in elements:\n",
    "    print(\"The ele is\",nivi)"
   ]
  },
  {
   "cell_type": "code",
   "execution_count": null,
   "id": "b6612876",
   "metadata": {},
   "outputs": [],
   "source": [
    "lst=[]\n",
    "numbers=input(\"Enter the number:\")\n",
    "for i in range(5):\n",
    "    lst.append(i)\n",
    "\n"
   ]
  },
  {
   "cell_type": "code",
   "execution_count": null,
   "id": "360c4f68",
   "metadata": {},
   "outputs": [],
   "source": [
    "# creating an empty list\n",
    "lst = []\n",
    "\n",
    "# number of elements as input\n",
    "n = int(input(\"Enter number of elements : \"))\n",
    "\n",
    "# iterating till the range\n",
    "for i in range(0, n):\n",
    "\tele = int(input())\n",
    "\t# adding the element\n",
    "\tlst.append(ele)\n",
    "\n",
    "print(lst)\n"
   ]
  },
  {
   "cell_type": "code",
   "execution_count": null,
   "id": "3edc9b06",
   "metadata": {},
   "outputs": [],
   "source": [
    "sum=0\n",
    "for j in lst:\n",
    "    sum+=j\n",
    "print(sum)"
   ]
  },
  {
   "cell_type": "markdown",
   "id": "e9604175",
   "metadata": {},
   "source": [
    "For printing only the odd Numbers"
   ]
  },
  {
   "cell_type": "code",
   "execution_count": null,
   "id": "6e39aea6",
   "metadata": {},
   "outputs": [],
   "source": [
    "numbers=[2,3,5,7,9,10,14]\n",
    "for i in numbers:\n",
    "    if i%2==1:\n",
    "        print(i)"
   ]
  },
  {
   "cell_type": "code",
   "execution_count": null,
   "id": "8acba942",
   "metadata": {},
   "outputs": [],
   "source": [
    "for number in range(23):\n",
    "    if number==16:\n",
    "        break\n",
    "    print(number)"
   ]
  },
  {
   "cell_type": "code",
   "execution_count": null,
   "id": "01b09cff",
   "metadata": {},
   "outputs": [],
   "source": [
    "count=1\n",
    "while count<=3:\n",
    "    text=input(\"\")\n",
    "    count+=1\n",
    "print(\"baby formed\")"
   ]
  },
  {
   "cell_type": "code",
   "execution_count": null,
   "id": "4b85b08e",
   "metadata": {},
   "outputs": [],
   "source": [
    "sum=o\n",
    "while true:\n",
    "    try:\n",
    "        number=input(\"enter the num:\")\n",
    "        if number==0:\n",
    "            break\n",
    "        sum+=number    "
   ]
  },
  {
   "cell_type": "code",
   "execution_count": null,
   "id": "27baa485",
   "metadata": {},
   "outputs": [],
   "source": []
  }
 ],
 "metadata": {
  "kernelspec": {
   "display_name": "Python 3 (ipykernel)",
   "language": "python",
   "name": "python3"
  },
  "language_info": {
   "codemirror_mode": {
    "name": "ipython",
    "version": 3
   },
   "file_extension": ".py",
   "mimetype": "text/x-python",
   "name": "python",
   "nbconvert_exporter": "python",
   "pygments_lexer": "ipython3",
   "version": "3.10.9"
  }
 },
 "nbformat": 4,
 "nbformat_minor": 5
}
