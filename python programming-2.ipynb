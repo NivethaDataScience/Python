{
 "cells": [
  {
   "cell_type": "markdown",
   "id": "38764bf0",
   "metadata": {},
   "source": [
    "Exception Handling in python"
   ]
  },
  {
   "cell_type": "code",
   "execution_count": 1,
   "id": "e4b89194",
   "metadata": {},
   "outputs": [
    {
     "name": "stdout",
     "output_type": "stream",
     "text": [
      "Divide by Zero\n"
     ]
    }
   ],
   "source": [
    "try:\n",
    "    a=20\n",
    "    b=0\n",
    "    result=print(a/b)#Exception Raises\n",
    "except ZeroDivisionError:\n",
    "    print(\"Divide by Zero\")\n",
    "     "
   ]
  },
  {
   "cell_type": "code",
   "execution_count": 2,
   "id": "d203dfcf",
   "metadata": {},
   "outputs": [
    {
     "name": "stdout",
     "output_type": "stream",
     "text": [
      "2.0\n"
     ]
    }
   ],
   "source": [
    "try:\n",
    "    a=20\n",
    "    b=10\n",
    "    result=print(a/b)#No Exception\n",
    "except ZeroDivisionError:\n",
    "    print(\"Divide by Zero\")\n",
    "     "
   ]
  },
  {
   "cell_type": "code",
   "execution_count": 3,
   "id": "88e3fe41",
   "metadata": {},
   "outputs": [
    {
     "name": "stdout",
     "output_type": "stream",
     "text": [
      "Divide by Zero\n",
      "This is going to print no matter what\n",
      "10\n"
     ]
    }
   ],
   "source": [
    "#finally block\n",
    "try:\n",
    "    a=20\n",
    "    b=0\n",
    "    result=print(a/b)#Exception Raises\n",
    "except ZeroDivisionError:\n",
    "    print(\"Divide by Zero\")\n",
    "finally:\n",
    "    print(\"This is going to print no matter what\")\n",
    "    def add(a,b):\n",
    "        print(a+b)\n",
    "    add(3,7)    \n",
    "     "
   ]
  },
  {
   "cell_type": "markdown",
   "id": "f29f3f01",
   "metadata": {},
   "source": [
    "File Handling"
   ]
  },
  {
   "cell_type": "code",
   "execution_count": 4,
   "id": "1604a0af",
   "metadata": {},
   "outputs": [],
   "source": [
    "#Writing onto the file\n",
    "file=open(\"demo.txt\",\"w\")#file name and mode\n",
    "file.write(\"Hi Hello,I'm Nivetha\")#The content have been placed in the file\n",
    "file.write(\"\\nKnowledge + attitude = Shine\")\n",
    "file.close()#closing the file\n"
   ]
  },
  {
   "cell_type": "code",
   "execution_count": 5,
   "id": "0da07643",
   "metadata": {},
   "outputs": [
    {
     "name": "stdout",
     "output_type": "stream",
     "text": [
      "Hi\n",
      " Hello,I'm Nivetha\n",
      "\n"
     ]
    }
   ],
   "source": [
    "file=open(\"demo.txt\",\"r\")\n",
    "content=file.read(2)#particular bytes can also given\n",
    "content_2=file.readline()\n",
    "file.close()\n",
    "print(content)\n",
    "print(content_2)"
   ]
  },
  {
   "cell_type": "code",
   "execution_count": 6,
   "id": "000665e8",
   "metadata": {},
   "outputs": [],
   "source": [
    "file=open(\"demo.txt\",\"w\")#file name and mode\n",
    "file.write(\"Hey this is nivi\")#this can be placed in demo file ccurrently\n",
    "file.close()"
   ]
  },
  {
   "cell_type": "markdown",
   "id": "712c04d7",
   "metadata": {},
   "source": [
    "For this we have to use the append mode"
   ]
  },
  {
   "cell_type": "code",
   "execution_count": 7,
   "id": "aab43d49",
   "metadata": {},
   "outputs": [],
   "source": [
    "file=open(\"demo.txt\",\"a\")\n",
    "file.write(\"\\nHey i'm back with my new line\")\n",
    "file.close()"
   ]
  },
  {
   "cell_type": "markdown",
   "id": "e65e9f69",
   "metadata": {},
   "source": [
    "DATA STRUCTURE->Dictionaries-used to map arbitrary key values\n",
    "              ->Key-value pair\n",
    "              ->enclosed within curly braces{}\n",
    "              ->store any kind of data"
   ]
  },
  {
   "cell_type": "code",
   "execution_count": 8,
   "id": "36b2ff68",
   "metadata": {},
   "outputs": [
    {
     "name": "stdout",
     "output_type": "stream",
     "text": [
      "21\n",
      "20\n",
      "30\n",
      "Key not found\n",
      "dict_values([30, 50, 40])\n"
     ]
    }
   ],
   "source": [
    "people={\"Nivetha\": 20,\"Subhash\": 21}\n",
    "print(people[\"Subhash\"])\n",
    "print(people[\"Nivetha\"])\n",
    "fruits={\"apples\":30,\"ootyapple\":50,\"orange\":40}\n",
    "print(fruits.get(\"apples\"))\n",
    "print(fruits.get(\"grapes\",\"Key not found\"))\n",
    "print(fruits.values())"
   ]
  },
  {
   "cell_type": "code",
   "execution_count": 9,
   "id": "2c1c3a23",
   "metadata": {},
   "outputs": [
    {
     "name": "stdout",
     "output_type": "stream",
     "text": [
      "True\n"
     ]
    }
   ],
   "source": [
    "numbers={1: \"one\",2: \"two\",3 :\"Three\"}\n",
    "print(1 in numbers)"
   ]
  },
  {
   "cell_type": "markdown",
   "id": "ae049028",
   "metadata": {},
   "source": [
    "TUPLE->immutable(cannot change)\n",
    "     ->One of the data structure\n",
    "     ->enclosed within parenthesis()"
   ]
  },
  {
   "cell_type": "code",
   "execution_count": 10,
   "id": "a3c80ba0",
   "metadata": {},
   "outputs": [
    {
     "name": "stdout",
     "output_type": "stream",
     "text": [
      "apple\n",
      "['apple', 'mango', 'blueberry']\n",
      "['apple', 'mango', 'blueberry', 'banana']\n",
      "('apple', 'mango', 'blueberry', 'banana')\n"
     ]
    }
   ],
   "source": [
    "fruits=(\"apple\",\"mango\",\"blueberry\")\n",
    "print(fruits[0])\n",
    "new_list=list(fruits)#Tuple can be converted into list using list method\n",
    "print(new_list)\n",
    "new_list.append(\"banana\")#list is mutable so I append one value\n",
    "print(new_list)\n",
    "fruits=tuple(new_list)#list can be changed into tuple\n",
    "print(fruits)"
   ]
  },
  {
   "cell_type": "markdown",
   "id": "f86dc670",
   "metadata": {},
   "source": [
    "Numeric functions"
   ]
  },
  {
   "cell_type": "markdown",
   "id": "39c7bd5f",
   "metadata": {},
   "source": [
    "List slicing"
   ]
  },
  {
   "cell_type": "code",
   "execution_count": 11,
   "id": "5d5ddcb6",
   "metadata": {},
   "outputs": [
    {
     "name": "stdout",
     "output_type": "stream",
     "text": [
      "[200, 300, 400]\n",
      "[0, 100, 200]\n",
      "[0, 100, 200, 300, 400, 500, 600]\n",
      "[0, 200, 400]\n"
     ]
    }
   ],
   "source": [
    "numbers=[0,100,200,300,400,500,600]#index starts from 0 and ends n-1\n",
    "print(numbers[2:5])\n",
    "print(numbers[:3])#starts from 0\n",
    "print(numbers[0:])#ends till the end of the list\n",
    "print(numbers[0:6:2])#step value can be given"
   ]
  },
  {
   "cell_type": "markdown",
   "id": "22bce970",
   "metadata": {},
   "source": [
    "List Comprehension->by defning certain list of roles in the listv"
   ]
  },
  {
   "cell_type": "code",
   "execution_count": 12,
   "id": "8c88c3c1",
   "metadata": {},
   "outputs": [
    {
     "name": "stdout",
     "output_type": "stream",
     "text": [
      "0\n",
      "1\n",
      "4\n",
      "9\n",
      "16\n"
     ]
    }
   ],
   "source": [
    "for i in range(5):\n",
    "    b=print(i**2)"
   ]
  },
  {
   "cell_type": "code",
   "execution_count": 13,
   "id": "646cf39d",
   "metadata": {
    "scrolled": true
   },
   "outputs": [
    {
     "name": "stdout",
     "output_type": "stream",
     "text": [
      "[0]\n",
      "[0, 1]\n",
      "[0, 1, 4]\n",
      "[0, 1, 4, 9]\n",
      "[0, 1, 4, 9, 16]\n"
     ]
    }
   ],
   "source": [
    "list=[]\n",
    "for x in range(5):\n",
    "    list.append(x**2)\n",
    "    print(list)"
   ]
  },
  {
   "cell_type": "code",
   "execution_count": 27,
   "id": "6f2ac1ce",
   "metadata": {
    "scrolled": true
   },
   "outputs": [
    {
     "name": "stdout",
     "output_type": "stream",
     "text": [
      "enter num:3\n",
      "4\n",
      "5\n",
      "6\n",
      "[4, 5, 6]\n"
     ]
    }
   ],
   "source": [
    "lst=[]\n",
    "n=int(input(\"enter num:\"))\n",
    "for i in range(0,n):\n",
    "    ele=int(input())\n",
    "    lst.append(ele)\n",
    "print(lst) \n"
   ]
  },
  {
   "cell_type": "code",
   "execution_count": 31,
   "id": "6d288b4c",
   "metadata": {},
   "outputs": [
    {
     "name": "stdout",
     "output_type": "stream",
     "text": [
      "4\n",
      "9\n",
      "15\n"
     ]
    }
   ],
   "source": [
    "lst=[4,5,6]\n",
    "sum=0\n",
    "for i in lst:\n",
    "    sum+=i\n",
    "    print(sum)\n",
    "    "
   ]
  },
  {
   "cell_type": "code",
   "execution_count": 15,
   "id": "4df17f09",
   "metadata": {},
   "outputs": [
    {
     "name": "stdout",
     "output_type": "stream",
     "text": [
      "[0, 4, 16, 36, 64]\n"
     ]
    }
   ],
   "source": [
    "list=[x**2 for x in range(10) if x**2%2==0]#code reduce\n",
    "print(list)"
   ]
  },
  {
   "cell_type": "markdown",
   "id": "2ea2c5f5",
   "metadata": {},
   "source": [
    "String formatting->embed with string value with non string values\n",
    "                 ->Displaying data in any form"
   ]
  },
  {
   "cell_type": "code",
   "execution_count": 16,
   "id": "ff866072",
   "metadata": {},
   "outputs": [
    {
     "name": "stdout",
     "output_type": "stream",
     "text": [
      "numbers:24-5-2003\n"
     ]
    }
   ],
   "source": [
    "numbers=[24,5,2003]\n",
    "new_string=\"numbers:{0}-{1}-{2}\".format(numbers[0],numbers[1],numbers[2])\n",
    "print(new_string)"
   ]
  },
  {
   "cell_type": "code",
   "execution_count": 17,
   "id": "54c2df57",
   "metadata": {},
   "outputs": [
    {
     "name": "stdout",
     "output_type": "stream",
     "text": [
      "100/200\n"
     ]
    }
   ],
   "source": [
    "a=\"{x}/{y}\".format(x=100,y=200)\n",
    "print(a)"
   ]
  },
  {
   "cell_type": "markdown",
   "id": "6ba141dd",
   "metadata": {},
   "source": [
    "String Functions"
   ]
  },
  {
   "cell_type": "code",
   "execution_count": 18,
   "id": "097df046",
   "metadata": {},
   "outputs": [
    {
     "name": "stdout",
     "output_type": "stream",
     "text": [
      "Apple_banana_Mango\n"
     ]
    }
   ],
   "source": [
    "print(\"_\".join([\"Apple\",\"banana\",\"Mango\"]))"
   ]
  },
  {
   "cell_type": "code",
   "execution_count": 19,
   "id": "c9174143",
   "metadata": {},
   "outputs": [
    {
     "name": "stdout",
     "output_type": "stream",
     "text": [
      "Hello NivethaKamaraj\n",
      "True\n",
      "False\n",
      "THIS IS NIVETHA\n",
      "this is nivetha\n",
      "False\n",
      "False\n"
     ]
    }
   ],
   "source": [
    "print(\"Hello Nivetha\".replace(\"Nivetha\",\"NivethaKamaraj\"))\n",
    "new_string=\"Hello subhash\"#another way\n",
    "new_string.replace(\"subhash\",\"Nivi\")\n",
    "newstring=\"This is Nivetha\"\n",
    "print(newstring.startswith(\"This\"))\n",
    "print(newstring.endswith(\"nivetha\"))#lowercase letter\n",
    "print(newstring.upper())\n",
    "print(newstring.lower())\n",
    "print(newstring.isupper())#checks whether it is upper\n",
    "print(newstring.islower())#checks whether it is lower"
   ]
  },
  {
   "cell_type": "markdown",
   "id": "eccf1498",
   "metadata": {},
   "source": [
    "Numerical functions"
   ]
  },
  {
   "cell_type": "code",
   "execution_count": null,
   "id": "43da2cf7",
   "metadata": {},
   "outputs": [],
   "source": [
    "print(min(1,2,3,4,89))#minimum\n",
    "print(max(1,45,87,34,900))#maximum\n",
    "print(abs(-203))#absolute"
   ]
  },
  {
   "cell_type": "markdown",
   "id": "0ba7f467",
   "metadata": {},
   "source": [
    "Functional programming-> like black box\n",
    "                      ->A function is a unit of code that is often defined within a greater cide structure.specifically a functions contains a set of code that works on many kinds of input like varirants,expressions,and produce a concreate or desired output"
   ]
  },
  {
   "cell_type": "code",
   "execution_count": null,
   "id": "eb5ee764",
   "metadata": {},
   "outputs": [],
   "source": [
    "def add_ten(x):\n",
    "    return x+10\n",
    "def twice(func,args):\n",
    "    return(func(func(args)))\n",
    "print(twice(add_ten,10))"
   ]
  },
  {
   "cell_type": "markdown",
   "id": "08be9350",
   "metadata": {},
   "source": [
    "lambdas->anonymous unnamed function"
   ]
  },
  {
   "cell_type": "code",
   "execution_count": null,
   "id": "06bd774e",
   "metadata": {
    "scrolled": true
   },
   "outputs": [],
   "source": [
    "result=(lambda x:x**2)(3)\n",
    "print(result)\n",
    "mul=(lambda i,j:i*j)(3,4)#assigning to variable\n",
    "print(mul)\n",
    "print((lambda i,j:i+j)(6,4))#directly given to print()"
   ]
  },
  {
   "cell_type": "markdown",
   "id": "65f36eea",
   "metadata": {},
   "source": [
    "FILTER\n",
    "    ->built in function so no need to import\n",
    "    ->Higher order function\n",
    "    ->filter(function,iterable)#iterables-list,set.string,dictionary\n",
    "    ->function evaluate a boolean condition\n",
    "    ->return a generator"
   ]
  },
  {
   "cell_type": "code",
   "execution_count": 32,
   "id": "7076ea3f",
   "metadata": {},
   "outputs": [
    {
     "data": {
      "text/plain": [
       "False"
      ]
     },
     "execution_count": 32,
     "metadata": {},
     "output_type": "execute_result"
    }
   ],
   "source": [
    "def is_greater(num):\n",
    "    if  (num) >=18:\n",
    "        return True\n",
    "    else:\n",
    "        return False\n",
    "is_greater(10)    "
   ]
  },
  {
   "cell_type": "code",
   "execution_count": 33,
   "id": "98722009",
   "metadata": {},
   "outputs": [],
   "source": [
    "sequence=[1,76,89,43,2,8]"
   ]
  },
  {
   "cell_type": "code",
   "execution_count": 34,
   "id": "f52a25bd",
   "metadata": {
    "scrolled": true
   },
   "outputs": [
    {
     "name": "stdout",
     "output_type": "stream",
     "text": [
      "76\n",
      "89\n",
      "43\n"
     ]
    }
   ],
   "source": [
    "res=filter(is_greater,sequence)#next(res) can be given cozz it's a generator\n",
    "for s in res:\n",
    "    print(s)"
   ]
  },
  {
   "cell_type": "code",
   "execution_count": null,
   "id": "0e7d103b",
   "metadata": {},
   "outputs": [],
   "source": [
    "#another method using loop\n",
    "sequence=[1,76,89,43,2,8]\n",
    "for s in sequence:\n",
    "    if s >=18:\n",
    "        print(s)"
   ]
  },
  {
   "cell_type": "markdown",
   "id": "436b40f4",
   "metadata": {},
   "source": [
    "MAP-\n",
    "   ->In build function  no need to import\n",
    "   ->Higher order function\n",
    "   ->map(function,iterable)\n",
    "   ->execute a function for every item in the iterable\n",
    "   ->return a generator(for lower conception of memeory)"
   ]
  },
  {
   "cell_type": "code",
   "execution_count": 35,
   "id": "a542a107",
   "metadata": {},
   "outputs": [
    {
     "data": {
      "text/plain": [
       "9"
      ]
     },
     "execution_count": 35,
     "metadata": {},
     "output_type": "execute_result"
    }
   ],
   "source": [
    "def square(n):\n",
    "    return n*n\n",
    "square(3)"
   ]
  },
  {
   "cell_type": "code",
   "execution_count": 36,
   "id": "e32460fd",
   "metadata": {},
   "outputs": [
    {
     "name": "stdout",
     "output_type": "stream",
     "text": [
      "1\n",
      "4\n",
      "9\n"
     ]
    }
   ],
   "source": [
    "result=map(square,[1,2,3])\n",
    "for s in result:\n",
    "    print(s)"
   ]
  },
  {
   "cell_type": "code",
   "execution_count": null,
   "id": "d8d6f2ba",
   "metadata": {},
   "outputs": [],
   "source": [
    "#using next function\n",
    "result=map(square,[1,2,3])\n",
    "next(result)"
   ]
  },
  {
   "cell_type": "markdown",
   "id": "5b22c499",
   "metadata": {},
   "source": [
    "Reduce-\n",
    "      ->reduce a list of items to a single cumulative value\n",
    "      ->functools module can be imported"
   ]
  },
  {
   "cell_type": "code",
   "execution_count": 37,
   "id": "33be70b7",
   "metadata": {},
   "outputs": [
    {
     "name": "stdout",
     "output_type": "stream",
     "text": [
      "1 2\n",
      "3 3\n",
      "6 4\n",
      "10 5\n",
      "15\n"
     ]
    }
   ],
   "source": [
    "import functools\n",
    "def add(a,b):\n",
    "    print(a,b)\n",
    "    return a+b\n",
    "res=functools.reduce(add,[1,2,3,4,5])\n",
    "print(res)"
   ]
  },
  {
   "cell_type": "markdown",
   "id": "a304b4d1",
   "metadata": {},
   "source": [
    "\n",
    "Generators-iterables\n",
    "          ->not using index but they iterated using for loop\n",
    "          -> defing a function for generators"
   ]
  },
  {
   "cell_type": "code",
   "execution_count": null,
   "id": "3d11b8df",
   "metadata": {},
   "outputs": [],
   "source": [
    "def fun():\n",
    "    counter=0\n",
    "    while counter <5:\n",
    "        yield counter#generator\n",
    "        counter+=1\n",
    "for x in fun():#loop must be used iterate the generator\n",
    "    print(x)"
   ]
  },
  {
   "cell_type": "code",
   "execution_count": 38,
   "id": "15f66992",
   "metadata": {},
   "outputs": [
    {
     "name": "stdout",
     "output_type": "stream",
     "text": [
      "0\n",
      "2\n",
      "4\n",
      "6\n",
      "8\n",
      "10\n",
      "12\n",
      "14\n",
      "16\n",
      "18\n"
     ]
    }
   ],
   "source": [
    "def even(x):\n",
    "    for i in range(20):\n",
    "        if i%2==0:\n",
    "            yield i\n",
    "for x in even(x):\n",
    "    print(x)\n",
    "    "
   ]
  },
  {
   "cell_type": "code",
   "execution_count": null,
   "id": "976ac113",
   "metadata": {},
   "outputs": [],
   "source": []
  },
  {
   "cell_type": "code",
   "execution_count": null,
   "id": "0ae1e65b",
   "metadata": {},
   "outputs": [],
   "source": []
  }
 ],
 "metadata": {
  "kernelspec": {
   "display_name": "Python 3 (ipykernel)",
   "language": "python",
   "name": "python3"
  },
  "language_info": {
   "codemirror_mode": {
    "name": "ipython",
    "version": 3
   },
   "file_extension": ".py",
   "mimetype": "text/x-python",
   "name": "python",
   "nbconvert_exporter": "python",
   "pygments_lexer": "ipython3",
   "version": "3.10.9"
  }
 },
 "nbformat": 4,
 "nbformat_minor": 5
}
